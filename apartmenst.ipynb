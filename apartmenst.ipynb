{
 "cells": [
  {
   "attachments": {},
   "cell_type": "markdown",
   "metadata": {},
   "source": [
    "# Welcome to the Perfect Vacation project analysis"
   ]
  },
  {
   "attachments": {},
   "cell_type": "markdown",
   "metadata": {},
   "source": [
    "### By Israel Sinke and Lior Lakay - Holon Institute of Technology"
   ]
  },
  {
   "attachments": {},
   "cell_type": "markdown",
   "metadata": {},
   "source": [
    "<img src=\"vacation-vibes.jpg\" alt=\"Drawing\" style=\"width: 700px;\"/>"
   ]
  },
  {
   "attachments": {},
   "cell_type": "markdown",
   "metadata": {},
   "source": [
    "# Backround\n",
    "### As we both people who love to travel, we encounter the ultimate question in each of our trips - **where is the best place to stay in during our trip?**\n",
    "\n",
    "### In this project we will try to answer this question "
   ]
  },
  {
   "attachments": {},
   "cell_type": "markdown",
   "metadata": {},
   "source": [
    "## Our machine learning question will be:\n",
    "#### **Can we predicting the rate of rental apartment depends on specific apartment's attributes**"
   ]
  },
  {
   "attachments": {},
   "cell_type": "markdown",
   "metadata": {},
   "source": [
    "### Let's start checking it..."
   ]
  },
  {
   "cell_type": "code",
   "execution_count": 203,
   "metadata": {},
   "outputs": [],
   "source": [
    "import pandas as pd\n",
    "import seaborn as sns\n",
    "import matplotlib.pyplot as plt\n",
    "import numpy as np\n",
    "\n",
    "# TODO: check what modules needed and insert here"
   ]
  },
  {
   "attachments": {},
   "cell_type": "markdown",
   "metadata": {},
   "source": [
    "#### First, we will load our dataset that we have acquired using our crawler into pandas dataframe:"
   ]
  },
  {
   "cell_type": "code",
   "execution_count": 204,
   "metadata": {},
   "outputs": [],
   "source": [
    "apartments_data = pd.read_csv('data_output.csv')"
   ]
  },
  {
   "attachments": {},
   "cell_type": "markdown",
   "metadata": {},
   "source": [
    "#### This is how it looks like before we start working on it:"
   ]
  },
  {
   "cell_type": "code",
   "execution_count": 205,
   "metadata": {},
   "outputs": [
    {
     "data": {
      "text/html": [
       "<div>\n",
       "<style scoped>\n",
       "    .dataframe tbody tr th:only-of-type {\n",
       "        vertical-align: middle;\n",
       "    }\n",
       "\n",
       "    .dataframe tbody tr th {\n",
       "        vertical-align: top;\n",
       "    }\n",
       "\n",
       "    .dataframe thead th {\n",
       "        text-align: right;\n",
       "    }\n",
       "</style>\n",
       "<table border=\"1\" class=\"dataframe\">\n",
       "  <thead>\n",
       "    <tr style=\"text-align: right;\">\n",
       "      <th></th>\n",
       "      <th>Unnamed: 0</th>\n",
       "      <th>Location</th>\n",
       "      <th>Name</th>\n",
       "      <th>Rooms</th>\n",
       "      <th>Guests</th>\n",
       "      <th>Pets</th>\n",
       "      <th>Wifi</th>\n",
       "      <th>Free_parking</th>\n",
       "      <th>Refrigerator</th>\n",
       "      <th>Kitchen</th>\n",
       "      <th>Smoke_alarm</th>\n",
       "      <th>Cooling</th>\n",
       "      <th>Heating</th>\n",
       "      <th>TV</th>\n",
       "      <th>Bed_lines</th>\n",
       "      <th>Washer</th>\n",
       "      <th>Super_host</th>\n",
       "      <th>Price</th>\n",
       "      <th>Review_count</th>\n",
       "      <th>Total_rate</th>\n",
       "    </tr>\n",
       "  </thead>\n",
       "  <tbody>\n",
       "    <tr>\n",
       "      <th>0</th>\n",
       "      <td>0</td>\n",
       "      <td>Glendale</td>\n",
       "      <td>Room in Glendale</td>\n",
       "      <td>1</td>\n",
       "      <td>2</td>\n",
       "      <td>False</td>\n",
       "      <td>True</td>\n",
       "      <td>True</td>\n",
       "      <td>True</td>\n",
       "      <td>True</td>\n",
       "      <td>True</td>\n",
       "      <td>True</td>\n",
       "      <td>True</td>\n",
       "      <td>True</td>\n",
       "      <td>True</td>\n",
       "      <td>True</td>\n",
       "      <td>False</td>\n",
       "      <td>322</td>\n",
       "      <td>5</td>\n",
       "      <td>5.00</td>\n",
       "    </tr>\n",
       "    <tr>\n",
       "      <th>1</th>\n",
       "      <td>1</td>\n",
       "      <td>Redondo Beach</td>\n",
       "      <td>Home in Redondo Beach</td>\n",
       "      <td>1</td>\n",
       "      <td>2</td>\n",
       "      <td>True</td>\n",
       "      <td>True</td>\n",
       "      <td>True</td>\n",
       "      <td>True</td>\n",
       "      <td>True</td>\n",
       "      <td>NaN</td>\n",
       "      <td>NaN</td>\n",
       "      <td>True</td>\n",
       "      <td>True</td>\n",
       "      <td>True</td>\n",
       "      <td>True</td>\n",
       "      <td>False</td>\n",
       "      <td>610</td>\n",
       "      <td>3</td>\n",
       "      <td>4.67</td>\n",
       "    </tr>\n",
       "    <tr>\n",
       "      <th>2</th>\n",
       "      <td>2</td>\n",
       "      <td>Los Angeles</td>\n",
       "      <td>Guesthouse in Los Angeles</td>\n",
       "      <td>1</td>\n",
       "      <td>2</td>\n",
       "      <td>False</td>\n",
       "      <td>True</td>\n",
       "      <td>True</td>\n",
       "      <td>True</td>\n",
       "      <td>True</td>\n",
       "      <td>NaN</td>\n",
       "      <td>True</td>\n",
       "      <td>True</td>\n",
       "      <td>True</td>\n",
       "      <td>True</td>\n",
       "      <td>NaN</td>\n",
       "      <td>True</td>\n",
       "      <td>912</td>\n",
       "      <td>249</td>\n",
       "      <td>4.97</td>\n",
       "    </tr>\n",
       "    <tr>\n",
       "      <th>3</th>\n",
       "      <td>3</td>\n",
       "      <td>Inglewood</td>\n",
       "      <td>Boutique hotel in Inglewood</td>\n",
       "      <td>1</td>\n",
       "      <td>2</td>\n",
       "      <td>False</td>\n",
       "      <td>True</td>\n",
       "      <td>True</td>\n",
       "      <td>NaN</td>\n",
       "      <td>NaN</td>\n",
       "      <td>NaN</td>\n",
       "      <td>True</td>\n",
       "      <td>True</td>\n",
       "      <td>True</td>\n",
       "      <td>True</td>\n",
       "      <td>NaN</td>\n",
       "      <td>False</td>\n",
       "      <td>453</td>\n",
       "      <td>1132</td>\n",
       "      <td>4.28</td>\n",
       "    </tr>\n",
       "    <tr>\n",
       "      <th>4</th>\n",
       "      <td>4</td>\n",
       "      <td>Los Angeles</td>\n",
       "      <td>Room in Los Angeles</td>\n",
       "      <td>1</td>\n",
       "      <td>1</td>\n",
       "      <td>False</td>\n",
       "      <td>True</td>\n",
       "      <td>NaN</td>\n",
       "      <td>True</td>\n",
       "      <td>True</td>\n",
       "      <td>NaN</td>\n",
       "      <td>True</td>\n",
       "      <td>True</td>\n",
       "      <td>NaN</td>\n",
       "      <td>NaN</td>\n",
       "      <td>NaN</td>\n",
       "      <td>False</td>\n",
       "      <td>310</td>\n",
       "      <td>4</td>\n",
       "      <td>5.00</td>\n",
       "    </tr>\n",
       "    <tr>\n",
       "      <th>...</th>\n",
       "      <td>...</td>\n",
       "      <td>...</td>\n",
       "      <td>...</td>\n",
       "      <td>...</td>\n",
       "      <td>...</td>\n",
       "      <td>...</td>\n",
       "      <td>...</td>\n",
       "      <td>...</td>\n",
       "      <td>...</td>\n",
       "      <td>...</td>\n",
       "      <td>...</td>\n",
       "      <td>...</td>\n",
       "      <td>...</td>\n",
       "      <td>...</td>\n",
       "      <td>...</td>\n",
       "      <td>...</td>\n",
       "      <td>...</td>\n",
       "      <td>...</td>\n",
       "      <td>...</td>\n",
       "      <td>...</td>\n",
       "    </tr>\n",
       "    <tr>\n",
       "      <th>2965</th>\n",
       "      <td>2965</td>\n",
       "      <td>San Antonio</td>\n",
       "      <td>Apartment in San Antonio</td>\n",
       "      <td>1</td>\n",
       "      <td>3</td>\n",
       "      <td>False</td>\n",
       "      <td>True</td>\n",
       "      <td>True</td>\n",
       "      <td>True</td>\n",
       "      <td>True</td>\n",
       "      <td>NaN</td>\n",
       "      <td>True</td>\n",
       "      <td>True</td>\n",
       "      <td>True</td>\n",
       "      <td>True</td>\n",
       "      <td>True</td>\n",
       "      <td>True</td>\n",
       "      <td>319</td>\n",
       "      <td>334</td>\n",
       "      <td>4.85</td>\n",
       "    </tr>\n",
       "    <tr>\n",
       "      <th>2966</th>\n",
       "      <td>2966</td>\n",
       "      <td>San Antonio</td>\n",
       "      <td>Tiny home in San Antonio</td>\n",
       "      <td>1</td>\n",
       "      <td>2</td>\n",
       "      <td>True</td>\n",
       "      <td>True</td>\n",
       "      <td>True</td>\n",
       "      <td>True</td>\n",
       "      <td>True</td>\n",
       "      <td>NaN</td>\n",
       "      <td>True</td>\n",
       "      <td>True</td>\n",
       "      <td>True</td>\n",
       "      <td>True</td>\n",
       "      <td>NaN</td>\n",
       "      <td>False</td>\n",
       "      <td>196</td>\n",
       "      <td>5</td>\n",
       "      <td>4.60</td>\n",
       "    </tr>\n",
       "    <tr>\n",
       "      <th>2967</th>\n",
       "      <td>2967</td>\n",
       "      <td>San Antonio</td>\n",
       "      <td>Apartment in San Antonio</td>\n",
       "      <td>1</td>\n",
       "      <td>4</td>\n",
       "      <td>False</td>\n",
       "      <td>True</td>\n",
       "      <td>True</td>\n",
       "      <td>True</td>\n",
       "      <td>True</td>\n",
       "      <td>NaN</td>\n",
       "      <td>True</td>\n",
       "      <td>True</td>\n",
       "      <td>True</td>\n",
       "      <td>True</td>\n",
       "      <td>True</td>\n",
       "      <td>False</td>\n",
       "      <td>372</td>\n",
       "      <td>1</td>\n",
       "      <td>5.00</td>\n",
       "    </tr>\n",
       "    <tr>\n",
       "      <th>2968</th>\n",
       "      <td>2968</td>\n",
       "      <td>San Antonio</td>\n",
       "      <td>Apartment in San Antonio</td>\n",
       "      <td>1</td>\n",
       "      <td>2</td>\n",
       "      <td>False</td>\n",
       "      <td>True</td>\n",
       "      <td>True</td>\n",
       "      <td>True</td>\n",
       "      <td>True</td>\n",
       "      <td>NaN</td>\n",
       "      <td>True</td>\n",
       "      <td>True</td>\n",
       "      <td>True</td>\n",
       "      <td>True</td>\n",
       "      <td>True</td>\n",
       "      <td>True</td>\n",
       "      <td>319</td>\n",
       "      <td>74</td>\n",
       "      <td>4.81</td>\n",
       "    </tr>\n",
       "    <tr>\n",
       "      <th>2969</th>\n",
       "      <td>2969</td>\n",
       "      <td>San Antonio</td>\n",
       "      <td>Room in San Antonio</td>\n",
       "      <td>1</td>\n",
       "      <td>1</td>\n",
       "      <td>False</td>\n",
       "      <td>True</td>\n",
       "      <td>True</td>\n",
       "      <td>True</td>\n",
       "      <td>True</td>\n",
       "      <td>True</td>\n",
       "      <td>True</td>\n",
       "      <td>True</td>\n",
       "      <td>NaN</td>\n",
       "      <td>True</td>\n",
       "      <td>NaN</td>\n",
       "      <td>False</td>\n",
       "      <td>148</td>\n",
       "      <td>29</td>\n",
       "      <td>4.66</td>\n",
       "    </tr>\n",
       "  </tbody>\n",
       "</table>\n",
       "<p>2970 rows × 20 columns</p>\n",
       "</div>"
      ],
      "text/plain": [
       "      Unnamed: 0       Location                         Name  Rooms  Guests  \\\n",
       "0              0       Glendale             Room in Glendale      1       2   \n",
       "1              1  Redondo Beach        Home in Redondo Beach      1       2   \n",
       "2              2    Los Angeles    Guesthouse in Los Angeles      1       2   \n",
       "3              3      Inglewood  Boutique hotel in Inglewood      1       2   \n",
       "4              4    Los Angeles          Room in Los Angeles      1       1   \n",
       "...          ...            ...                          ...    ...     ...   \n",
       "2965        2965    San Antonio     Apartment in San Antonio      1       3   \n",
       "2966        2966    San Antonio     Tiny home in San Antonio      1       2   \n",
       "2967        2967    San Antonio     Apartment in San Antonio      1       4   \n",
       "2968        2968    San Antonio     Apartment in San Antonio      1       2   \n",
       "2969        2969    San Antonio          Room in San Antonio      1       1   \n",
       "\n",
       "       Pets  Wifi Free_parking Refrigerator Kitchen Smoke_alarm Cooling  \\\n",
       "0     False  True         True         True    True        True    True   \n",
       "1      True  True         True         True    True         NaN     NaN   \n",
       "2     False  True         True         True    True         NaN    True   \n",
       "3     False  True         True          NaN     NaN         NaN    True   \n",
       "4     False  True          NaN         True    True         NaN    True   \n",
       "...     ...   ...          ...          ...     ...         ...     ...   \n",
       "2965  False  True         True         True    True         NaN    True   \n",
       "2966   True  True         True         True    True         NaN    True   \n",
       "2967  False  True         True         True    True         NaN    True   \n",
       "2968  False  True         True         True    True         NaN    True   \n",
       "2969  False  True         True         True    True        True    True   \n",
       "\n",
       "     Heating    TV Bed_lines Washer  Super_host  Price  Review_count  \\\n",
       "0       True  True      True   True       False    322             5   \n",
       "1       True  True      True   True       False    610             3   \n",
       "2       True  True      True    NaN        True    912           249   \n",
       "3       True  True      True    NaN       False    453          1132   \n",
       "4       True   NaN       NaN    NaN       False    310             4   \n",
       "...      ...   ...       ...    ...         ...    ...           ...   \n",
       "2965    True  True      True   True        True    319           334   \n",
       "2966    True  True      True    NaN       False    196             5   \n",
       "2967    True  True      True   True       False    372             1   \n",
       "2968    True  True      True   True        True    319            74   \n",
       "2969    True   NaN      True    NaN       False    148            29   \n",
       "\n",
       "      Total_rate  \n",
       "0           5.00  \n",
       "1           4.67  \n",
       "2           4.97  \n",
       "3           4.28  \n",
       "4           5.00  \n",
       "...          ...  \n",
       "2965        4.85  \n",
       "2966        4.60  \n",
       "2967        5.00  \n",
       "2968        4.81  \n",
       "2969        4.66  \n",
       "\n",
       "[2970 rows x 20 columns]"
      ]
     },
     "execution_count": 205,
     "metadata": {},
     "output_type": "execute_result"
    }
   ],
   "source": [
    "apartments_data"
   ]
  },
  {
   "attachments": {},
   "cell_type": "markdown",
   "metadata": {},
   "source": [
    "#### And this is the dataframe shape:"
   ]
  },
  {
   "cell_type": "code",
   "execution_count": 206,
   "metadata": {},
   "outputs": [
    {
     "data": {
      "text/plain": [
       "(2970, 20)"
      ]
     },
     "execution_count": 206,
     "metadata": {},
     "output_type": "execute_result"
    }
   ],
   "source": [
    "apartments_data.shape"
   ]
  },
  {
   "attachments": {},
   "cell_type": "markdown",
   "metadata": {},
   "source": [
    "#### Let's check how much missing values we have"
   ]
  },
  {
   "cell_type": "code",
   "execution_count": 207,
   "metadata": {},
   "outputs": [
    {
     "data": {
      "text/plain": [
       "Unnamed: 0         0\n",
       "Location           0\n",
       "Name               0\n",
       "Rooms              0\n",
       "Guests             0\n",
       "Pets             106\n",
       "Wifi              46\n",
       "Free_parking     590\n",
       "Refrigerator     455\n",
       "Kitchen          461\n",
       "Smoke_alarm     2280\n",
       "Cooling          410\n",
       "Heating          307\n",
       "TV               498\n",
       "Bed_lines        777\n",
       "Washer          1000\n",
       "Super_host         0\n",
       "Price              0\n",
       "Review_count       0\n",
       "Total_rate         0\n",
       "dtype: int64"
      ]
     },
     "execution_count": 207,
     "metadata": {},
     "output_type": "execute_result"
    }
   ],
   "source": [
    "apartments_data.isnull().sum()"
   ]
  },
  {
   "attachments": {},
   "cell_type": "markdown",
   "metadata": {},
   "source": [
    "#### First, we will fill the missing values"
   ]
  },
  {
   "cell_type": "code",
   "execution_count": 208,
   "metadata": {},
   "outputs": [],
   "source": [
    "apartments_data['Pets'] = apartments_data['Pets'].fillna(method='bfill')"
   ]
  },
  {
   "attachments": {},
   "cell_type": "markdown",
   "metadata": {},
   "source": [
    "#### And for the rest columns, we know that missing values indicates that those features is not include in the apartment, i.e. its False"
   ]
  },
  {
   "cell_type": "code",
   "execution_count": 209,
   "metadata": {},
   "outputs": [],
   "source": [
    "apartments_data[\n",
    "    [\n",
    "        'Wifi',\n",
    "        'Free_parking',\n",
    "        'Refrigerator',\n",
    "        'Kitchen',\n",
    "        'Smoke_alarm',\n",
    "        'Cooling',\n",
    "        'Heating',\n",
    "        'TV',\n",
    "        'Bed_lines',\n",
    "        'Washer'\n",
    "    ]\n",
    "] = apartments_data[\n",
    "    [\n",
    "        'Wifi',\n",
    "        'Free_parking',\n",
    "        'Refrigerator',\n",
    "        'Kitchen',\n",
    "        'Smoke_alarm',\n",
    "        'Cooling',\n",
    "        'Heating',\n",
    "        'TV',\n",
    "        'Bed_lines',\n",
    "        'Washer'\n",
    "    ]\n",
    "].fillna(False)"
   ]
  },
  {
   "cell_type": "code",
   "execution_count": 210,
   "metadata": {},
   "outputs": [
    {
     "data": {
      "text/plain": [
       "Unnamed: 0      0\n",
       "Location        0\n",
       "Name            0\n",
       "Rooms           0\n",
       "Guests          0\n",
       "Pets            0\n",
       "Wifi            0\n",
       "Free_parking    0\n",
       "Refrigerator    0\n",
       "Kitchen         0\n",
       "Smoke_alarm     0\n",
       "Cooling         0\n",
       "Heating         0\n",
       "TV              0\n",
       "Bed_lines       0\n",
       "Washer          0\n",
       "Super_host      0\n",
       "Price           0\n",
       "Review_count    0\n",
       "Total_rate      0\n",
       "dtype: int64"
      ]
     },
     "execution_count": 210,
     "metadata": {},
     "output_type": "execute_result"
    }
   ],
   "source": [
    "apartments_data.isnull().sum()"
   ]
  },
  {
   "attachments": {},
   "cell_type": "markdown",
   "metadata": {},
   "source": [
    "# Data Cleanup\n",
    "\n",
    "### We've mapped every \"Categorial\" value to numeric representation "
   ]
  },
  {
   "cell_type": "code",
   "execution_count": 211,
   "metadata": {},
   "outputs": [],
   "source": [
    "categorial_values = {True: 1, False: 0}\n",
    "apartments_data.Pets.replace(categorial_values, inplace=True)\n",
    "apartments_data.Wifi.replace(categorial_values, inplace=True)\n",
    "apartments_data.Free_parking.replace(categorial_values, inplace=True)\n",
    "apartments_data.Refrigerator.replace(categorial_values, inplace=True)\n",
    "apartments_data.Kitchen.replace(categorial_values, inplace=True)\n",
    "apartments_data.Smoke_alarm.replace(categorial_values, inplace=True)\n",
    "apartments_data.Cooling.replace(categorial_values, inplace=True)\n",
    "apartments_data.Heating.replace(categorial_values, inplace=True)\n",
    "apartments_data.TV.replace(categorial_values, inplace=True)\n",
    "apartments_data.Bed_lines.replace(categorial_values, inplace=True)\n",
    "apartments_data.Washer.replace(categorial_values, inplace=True)\n",
    "apartments_data.Super_host.replace(categorial_values, inplace=True)\n"
   ]
  },
  {
   "attachments": {},
   "cell_type": "markdown",
   "metadata": {},
   "source": [
    "#### And we will map each location to relevant index "
   ]
  },
  {
   "cell_type": "code",
   "execution_count": 212,
   "metadata": {},
   "outputs": [],
   "source": [
    "for index, i in enumerate(range(1,12)):\n",
    "    if index == 0:\n",
    "        apartments_data.loc[:269, 'Location'] = i\n",
    "        continue\n",
    "    \n",
    "    start = (i - 1) * 270  \n",
    "    end = i * 269 + (i - 1)\n",
    "    apartments_data.loc[start :end, 'Location'] = i"
   ]
  },
  {
   "attachments": {},
   "cell_type": "markdown",
   "metadata": {},
   "source": [
    "#### The numbers 1-11 represent the following cities:\n",
    "+ Los Angles: 1\n",
    "+ New York City: 2\n",
    "+ Miami: 3\n",
    "+ Chicago: 4\n",
    "+ Wasington DC: 5\n",
    "+ Boston: 6\n",
    "+ Baltimore: 7\n",
    "+ San Francisco: 8\n",
    "+ Seattle: 9\n",
    "+ Phonex: 10\n",
    "+ San Antonio: 11"
   ]
  },
  {
   "cell_type": "code",
   "execution_count": 213,
   "metadata": {},
   "outputs": [
    {
     "data": {
      "text/html": [
       "<div>\n",
       "<style scoped>\n",
       "    .dataframe tbody tr th:only-of-type {\n",
       "        vertical-align: middle;\n",
       "    }\n",
       "\n",
       "    .dataframe tbody tr th {\n",
       "        vertical-align: top;\n",
       "    }\n",
       "\n",
       "    .dataframe thead th {\n",
       "        text-align: right;\n",
       "    }\n",
       "</style>\n",
       "<table border=\"1\" class=\"dataframe\">\n",
       "  <thead>\n",
       "    <tr style=\"text-align: right;\">\n",
       "      <th></th>\n",
       "      <th>Unnamed: 0</th>\n",
       "      <th>Location</th>\n",
       "      <th>Name</th>\n",
       "      <th>Rooms</th>\n",
       "      <th>Guests</th>\n",
       "      <th>Pets</th>\n",
       "      <th>Wifi</th>\n",
       "      <th>Free_parking</th>\n",
       "      <th>Refrigerator</th>\n",
       "      <th>Kitchen</th>\n",
       "      <th>Smoke_alarm</th>\n",
       "      <th>Cooling</th>\n",
       "      <th>Heating</th>\n",
       "      <th>TV</th>\n",
       "      <th>Bed_lines</th>\n",
       "      <th>Washer</th>\n",
       "      <th>Super_host</th>\n",
       "      <th>Price</th>\n",
       "      <th>Review_count</th>\n",
       "      <th>Total_rate</th>\n",
       "    </tr>\n",
       "  </thead>\n",
       "  <tbody>\n",
       "    <tr>\n",
       "      <th>0</th>\n",
       "      <td>0</td>\n",
       "      <td>1</td>\n",
       "      <td>Room in Glendale</td>\n",
       "      <td>1</td>\n",
       "      <td>2</td>\n",
       "      <td>0</td>\n",
       "      <td>1</td>\n",
       "      <td>1</td>\n",
       "      <td>1</td>\n",
       "      <td>1</td>\n",
       "      <td>1</td>\n",
       "      <td>1</td>\n",
       "      <td>1</td>\n",
       "      <td>1</td>\n",
       "      <td>1</td>\n",
       "      <td>1</td>\n",
       "      <td>0</td>\n",
       "      <td>322</td>\n",
       "      <td>5</td>\n",
       "      <td>5.00</td>\n",
       "    </tr>\n",
       "    <tr>\n",
       "      <th>1</th>\n",
       "      <td>1</td>\n",
       "      <td>1</td>\n",
       "      <td>Home in Redondo Beach</td>\n",
       "      <td>1</td>\n",
       "      <td>2</td>\n",
       "      <td>1</td>\n",
       "      <td>1</td>\n",
       "      <td>1</td>\n",
       "      <td>1</td>\n",
       "      <td>1</td>\n",
       "      <td>0</td>\n",
       "      <td>0</td>\n",
       "      <td>1</td>\n",
       "      <td>1</td>\n",
       "      <td>1</td>\n",
       "      <td>1</td>\n",
       "      <td>0</td>\n",
       "      <td>610</td>\n",
       "      <td>3</td>\n",
       "      <td>4.67</td>\n",
       "    </tr>\n",
       "    <tr>\n",
       "      <th>2</th>\n",
       "      <td>2</td>\n",
       "      <td>1</td>\n",
       "      <td>Guesthouse in Los Angeles</td>\n",
       "      <td>1</td>\n",
       "      <td>2</td>\n",
       "      <td>0</td>\n",
       "      <td>1</td>\n",
       "      <td>1</td>\n",
       "      <td>1</td>\n",
       "      <td>1</td>\n",
       "      <td>0</td>\n",
       "      <td>1</td>\n",
       "      <td>1</td>\n",
       "      <td>1</td>\n",
       "      <td>1</td>\n",
       "      <td>0</td>\n",
       "      <td>1</td>\n",
       "      <td>912</td>\n",
       "      <td>249</td>\n",
       "      <td>4.97</td>\n",
       "    </tr>\n",
       "    <tr>\n",
       "      <th>3</th>\n",
       "      <td>3</td>\n",
       "      <td>1</td>\n",
       "      <td>Boutique hotel in Inglewood</td>\n",
       "      <td>1</td>\n",
       "      <td>2</td>\n",
       "      <td>0</td>\n",
       "      <td>1</td>\n",
       "      <td>1</td>\n",
       "      <td>0</td>\n",
       "      <td>0</td>\n",
       "      <td>0</td>\n",
       "      <td>1</td>\n",
       "      <td>1</td>\n",
       "      <td>1</td>\n",
       "      <td>1</td>\n",
       "      <td>0</td>\n",
       "      <td>0</td>\n",
       "      <td>453</td>\n",
       "      <td>1132</td>\n",
       "      <td>4.28</td>\n",
       "    </tr>\n",
       "    <tr>\n",
       "      <th>4</th>\n",
       "      <td>4</td>\n",
       "      <td>1</td>\n",
       "      <td>Room in Los Angeles</td>\n",
       "      <td>1</td>\n",
       "      <td>1</td>\n",
       "      <td>0</td>\n",
       "      <td>1</td>\n",
       "      <td>0</td>\n",
       "      <td>1</td>\n",
       "      <td>1</td>\n",
       "      <td>0</td>\n",
       "      <td>1</td>\n",
       "      <td>1</td>\n",
       "      <td>0</td>\n",
       "      <td>0</td>\n",
       "      <td>0</td>\n",
       "      <td>0</td>\n",
       "      <td>310</td>\n",
       "      <td>4</td>\n",
       "      <td>5.00</td>\n",
       "    </tr>\n",
       "  </tbody>\n",
       "</table>\n",
       "</div>"
      ],
      "text/plain": [
       "   Unnamed: 0 Location                         Name  Rooms  Guests  Pets  \\\n",
       "0           0        1             Room in Glendale      1       2     0   \n",
       "1           1        1        Home in Redondo Beach      1       2     1   \n",
       "2           2        1    Guesthouse in Los Angeles      1       2     0   \n",
       "3           3        1  Boutique hotel in Inglewood      1       2     0   \n",
       "4           4        1          Room in Los Angeles      1       1     0   \n",
       "\n",
       "   Wifi  Free_parking  Refrigerator  Kitchen  Smoke_alarm  Cooling  Heating  \\\n",
       "0     1             1             1        1            1        1        1   \n",
       "1     1             1             1        1            0        0        1   \n",
       "2     1             1             1        1            0        1        1   \n",
       "3     1             1             0        0            0        1        1   \n",
       "4     1             0             1        1            0        1        1   \n",
       "\n",
       "   TV  Bed_lines  Washer  Super_host  Price  Review_count  Total_rate  \n",
       "0   1          1       1           0    322             5        5.00  \n",
       "1   1          1       1           0    610             3        4.67  \n",
       "2   1          1       0           1    912           249        4.97  \n",
       "3   1          1       0           0    453          1132        4.28  \n",
       "4   0          0       0           0    310             4        5.00  "
      ]
     },
     "execution_count": 213,
     "metadata": {},
     "output_type": "execute_result"
    }
   ],
   "source": [
    "apartments_data.head()"
   ]
  },
  {
   "attachments": {},
   "cell_type": "markdown",
   "metadata": {},
   "source": [
    "#### Now we will filter the apartments which their review count is less than 12 people, for preventing biased data"
   ]
  },
  {
   "cell_type": "code",
   "execution_count": 214,
   "metadata": {},
   "outputs": [
    {
     "data": {
      "text/html": [
       "<div>\n",
       "<style scoped>\n",
       "    .dataframe tbody tr th:only-of-type {\n",
       "        vertical-align: middle;\n",
       "    }\n",
       "\n",
       "    .dataframe tbody tr th {\n",
       "        vertical-align: top;\n",
       "    }\n",
       "\n",
       "    .dataframe thead th {\n",
       "        text-align: right;\n",
       "    }\n",
       "</style>\n",
       "<table border=\"1\" class=\"dataframe\">\n",
       "  <thead>\n",
       "    <tr style=\"text-align: right;\">\n",
       "      <th></th>\n",
       "      <th>Unnamed: 0</th>\n",
       "      <th>Location</th>\n",
       "      <th>Name</th>\n",
       "      <th>Rooms</th>\n",
       "      <th>Guests</th>\n",
       "      <th>Pets</th>\n",
       "      <th>Wifi</th>\n",
       "      <th>Free_parking</th>\n",
       "      <th>Refrigerator</th>\n",
       "      <th>Kitchen</th>\n",
       "      <th>Smoke_alarm</th>\n",
       "      <th>Cooling</th>\n",
       "      <th>Heating</th>\n",
       "      <th>TV</th>\n",
       "      <th>Bed_lines</th>\n",
       "      <th>Washer</th>\n",
       "      <th>Super_host</th>\n",
       "      <th>Price</th>\n",
       "      <th>Review_count</th>\n",
       "      <th>Total_rate</th>\n",
       "    </tr>\n",
       "  </thead>\n",
       "  <tbody>\n",
       "    <tr>\n",
       "      <th>2</th>\n",
       "      <td>2</td>\n",
       "      <td>1</td>\n",
       "      <td>Guesthouse in Los Angeles</td>\n",
       "      <td>1</td>\n",
       "      <td>2</td>\n",
       "      <td>0</td>\n",
       "      <td>1</td>\n",
       "      <td>1</td>\n",
       "      <td>1</td>\n",
       "      <td>1</td>\n",
       "      <td>0</td>\n",
       "      <td>1</td>\n",
       "      <td>1</td>\n",
       "      <td>1</td>\n",
       "      <td>1</td>\n",
       "      <td>0</td>\n",
       "      <td>1</td>\n",
       "      <td>912</td>\n",
       "      <td>249</td>\n",
       "      <td>4.97</td>\n",
       "    </tr>\n",
       "    <tr>\n",
       "      <th>3</th>\n",
       "      <td>3</td>\n",
       "      <td>1</td>\n",
       "      <td>Boutique hotel in Inglewood</td>\n",
       "      <td>1</td>\n",
       "      <td>2</td>\n",
       "      <td>0</td>\n",
       "      <td>1</td>\n",
       "      <td>1</td>\n",
       "      <td>0</td>\n",
       "      <td>0</td>\n",
       "      <td>0</td>\n",
       "      <td>1</td>\n",
       "      <td>1</td>\n",
       "      <td>1</td>\n",
       "      <td>1</td>\n",
       "      <td>0</td>\n",
       "      <td>0</td>\n",
       "      <td>453</td>\n",
       "      <td>1132</td>\n",
       "      <td>4.28</td>\n",
       "    </tr>\n",
       "    <tr>\n",
       "      <th>5</th>\n",
       "      <td>5</td>\n",
       "      <td>1</td>\n",
       "      <td>Apartment in Los Angeles</td>\n",
       "      <td>1</td>\n",
       "      <td>2</td>\n",
       "      <td>0</td>\n",
       "      <td>1</td>\n",
       "      <td>0</td>\n",
       "      <td>1</td>\n",
       "      <td>1</td>\n",
       "      <td>0</td>\n",
       "      <td>1</td>\n",
       "      <td>1</td>\n",
       "      <td>1</td>\n",
       "      <td>1</td>\n",
       "      <td>1</td>\n",
       "      <td>1</td>\n",
       "      <td>825</td>\n",
       "      <td>135</td>\n",
       "      <td>4.95</td>\n",
       "    </tr>\n",
       "    <tr>\n",
       "      <th>6</th>\n",
       "      <td>6</td>\n",
       "      <td>1</td>\n",
       "      <td>Guest suite in Glendale</td>\n",
       "      <td>1</td>\n",
       "      <td>1</td>\n",
       "      <td>0</td>\n",
       "      <td>1</td>\n",
       "      <td>1</td>\n",
       "      <td>1</td>\n",
       "      <td>1</td>\n",
       "      <td>0</td>\n",
       "      <td>1</td>\n",
       "      <td>1</td>\n",
       "      <td>1</td>\n",
       "      <td>0</td>\n",
       "      <td>0</td>\n",
       "      <td>1</td>\n",
       "      <td>503</td>\n",
       "      <td>100</td>\n",
       "      <td>4.98</td>\n",
       "    </tr>\n",
       "    <tr>\n",
       "      <th>8</th>\n",
       "      <td>8</td>\n",
       "      <td>1</td>\n",
       "      <td>Place to stay in Pasadena</td>\n",
       "      <td>1</td>\n",
       "      <td>1</td>\n",
       "      <td>0</td>\n",
       "      <td>1</td>\n",
       "      <td>1</td>\n",
       "      <td>1</td>\n",
       "      <td>1</td>\n",
       "      <td>0</td>\n",
       "      <td>1</td>\n",
       "      <td>1</td>\n",
       "      <td>0</td>\n",
       "      <td>0</td>\n",
       "      <td>1</td>\n",
       "      <td>0</td>\n",
       "      <td>198</td>\n",
       "      <td>117</td>\n",
       "      <td>4.70</td>\n",
       "    </tr>\n",
       "  </tbody>\n",
       "</table>\n",
       "</div>"
      ],
      "text/plain": [
       "   Unnamed: 0 Location                         Name  Rooms  Guests  Pets  \\\n",
       "2           2        1    Guesthouse in Los Angeles      1       2     0   \n",
       "3           3        1  Boutique hotel in Inglewood      1       2     0   \n",
       "5           5        1     Apartment in Los Angeles      1       2     0   \n",
       "6           6        1      Guest suite in Glendale      1       1     0   \n",
       "8           8        1    Place to stay in Pasadena      1       1     0   \n",
       "\n",
       "   Wifi  Free_parking  Refrigerator  Kitchen  Smoke_alarm  Cooling  Heating  \\\n",
       "2     1             1             1        1            0        1        1   \n",
       "3     1             1             0        0            0        1        1   \n",
       "5     1             0             1        1            0        1        1   \n",
       "6     1             1             1        1            0        1        1   \n",
       "8     1             1             1        1            0        1        1   \n",
       "\n",
       "   TV  Bed_lines  Washer  Super_host  Price  Review_count  Total_rate  \n",
       "2   1          1       0           1    912           249        4.97  \n",
       "3   1          1       0           0    453          1132        4.28  \n",
       "5   1          1       1           1    825           135        4.95  \n",
       "6   1          0       0           1    503           100        4.98  \n",
       "8   0          0       1           0    198           117        4.70  "
      ]
     },
     "execution_count": 214,
     "metadata": {},
     "output_type": "execute_result"
    }
   ],
   "source": [
    "apartments_data = apartments_data[apartments_data['Review_count'] > 12]\n",
    "apartments_data.head()"
   ]
  },
  {
   "attachments": {},
   "cell_type": "markdown",
   "metadata": {},
   "source": [
    "#### And we will drop the unrelevant columns"
   ]
  },
  {
   "cell_type": "code",
   "execution_count": 215,
   "metadata": {},
   "outputs": [
    {
     "data": {
      "text/html": [
       "<div>\n",
       "<style scoped>\n",
       "    .dataframe tbody tr th:only-of-type {\n",
       "        vertical-align: middle;\n",
       "    }\n",
       "\n",
       "    .dataframe tbody tr th {\n",
       "        vertical-align: top;\n",
       "    }\n",
       "\n",
       "    .dataframe thead th {\n",
       "        text-align: right;\n",
       "    }\n",
       "</style>\n",
       "<table border=\"1\" class=\"dataframe\">\n",
       "  <thead>\n",
       "    <tr style=\"text-align: right;\">\n",
       "      <th></th>\n",
       "      <th>Location</th>\n",
       "      <th>Rooms</th>\n",
       "      <th>Guests</th>\n",
       "      <th>Pets</th>\n",
       "      <th>Wifi</th>\n",
       "      <th>Free_parking</th>\n",
       "      <th>Refrigerator</th>\n",
       "      <th>Kitchen</th>\n",
       "      <th>Smoke_alarm</th>\n",
       "      <th>Cooling</th>\n",
       "      <th>Heating</th>\n",
       "      <th>TV</th>\n",
       "      <th>Bed_lines</th>\n",
       "      <th>Washer</th>\n",
       "      <th>Super_host</th>\n",
       "      <th>Price</th>\n",
       "      <th>Review_count</th>\n",
       "      <th>Total_rate</th>\n",
       "    </tr>\n",
       "  </thead>\n",
       "  <tbody>\n",
       "    <tr>\n",
       "      <th>2</th>\n",
       "      <td>1</td>\n",
       "      <td>1</td>\n",
       "      <td>2</td>\n",
       "      <td>0</td>\n",
       "      <td>1</td>\n",
       "      <td>1</td>\n",
       "      <td>1</td>\n",
       "      <td>1</td>\n",
       "      <td>0</td>\n",
       "      <td>1</td>\n",
       "      <td>1</td>\n",
       "      <td>1</td>\n",
       "      <td>1</td>\n",
       "      <td>0</td>\n",
       "      <td>1</td>\n",
       "      <td>912</td>\n",
       "      <td>249</td>\n",
       "      <td>4.97</td>\n",
       "    </tr>\n",
       "    <tr>\n",
       "      <th>3</th>\n",
       "      <td>1</td>\n",
       "      <td>1</td>\n",
       "      <td>2</td>\n",
       "      <td>0</td>\n",
       "      <td>1</td>\n",
       "      <td>1</td>\n",
       "      <td>0</td>\n",
       "      <td>0</td>\n",
       "      <td>0</td>\n",
       "      <td>1</td>\n",
       "      <td>1</td>\n",
       "      <td>1</td>\n",
       "      <td>1</td>\n",
       "      <td>0</td>\n",
       "      <td>0</td>\n",
       "      <td>453</td>\n",
       "      <td>1132</td>\n",
       "      <td>4.28</td>\n",
       "    </tr>\n",
       "    <tr>\n",
       "      <th>5</th>\n",
       "      <td>1</td>\n",
       "      <td>1</td>\n",
       "      <td>2</td>\n",
       "      <td>0</td>\n",
       "      <td>1</td>\n",
       "      <td>0</td>\n",
       "      <td>1</td>\n",
       "      <td>1</td>\n",
       "      <td>0</td>\n",
       "      <td>1</td>\n",
       "      <td>1</td>\n",
       "      <td>1</td>\n",
       "      <td>1</td>\n",
       "      <td>1</td>\n",
       "      <td>1</td>\n",
       "      <td>825</td>\n",
       "      <td>135</td>\n",
       "      <td>4.95</td>\n",
       "    </tr>\n",
       "    <tr>\n",
       "      <th>6</th>\n",
       "      <td>1</td>\n",
       "      <td>1</td>\n",
       "      <td>1</td>\n",
       "      <td>0</td>\n",
       "      <td>1</td>\n",
       "      <td>1</td>\n",
       "      <td>1</td>\n",
       "      <td>1</td>\n",
       "      <td>0</td>\n",
       "      <td>1</td>\n",
       "      <td>1</td>\n",
       "      <td>1</td>\n",
       "      <td>0</td>\n",
       "      <td>0</td>\n",
       "      <td>1</td>\n",
       "      <td>503</td>\n",
       "      <td>100</td>\n",
       "      <td>4.98</td>\n",
       "    </tr>\n",
       "    <tr>\n",
       "      <th>8</th>\n",
       "      <td>1</td>\n",
       "      <td>1</td>\n",
       "      <td>1</td>\n",
       "      <td>0</td>\n",
       "      <td>1</td>\n",
       "      <td>1</td>\n",
       "      <td>1</td>\n",
       "      <td>1</td>\n",
       "      <td>0</td>\n",
       "      <td>1</td>\n",
       "      <td>1</td>\n",
       "      <td>0</td>\n",
       "      <td>0</td>\n",
       "      <td>1</td>\n",
       "      <td>0</td>\n",
       "      <td>198</td>\n",
       "      <td>117</td>\n",
       "      <td>4.70</td>\n",
       "    </tr>\n",
       "  </tbody>\n",
       "</table>\n",
       "</div>"
      ],
      "text/plain": [
       "  Location  Rooms  Guests  Pets  Wifi  Free_parking  Refrigerator  Kitchen  \\\n",
       "2        1      1       2     0     1             1             1        1   \n",
       "3        1      1       2     0     1             1             0        0   \n",
       "5        1      1       2     0     1             0             1        1   \n",
       "6        1      1       1     0     1             1             1        1   \n",
       "8        1      1       1     0     1             1             1        1   \n",
       "\n",
       "   Smoke_alarm  Cooling  Heating  TV  Bed_lines  Washer  Super_host  Price  \\\n",
       "2            0        1        1   1          1       0           1    912   \n",
       "3            0        1        1   1          1       0           0    453   \n",
       "5            0        1        1   1          1       1           1    825   \n",
       "6            0        1        1   1          0       0           1    503   \n",
       "8            0        1        1   0          0       1           0    198   \n",
       "\n",
       "   Review_count  Total_rate  \n",
       "2           249        4.97  \n",
       "3          1132        4.28  \n",
       "5           135        4.95  \n",
       "6           100        4.98  \n",
       "8           117        4.70  "
      ]
     },
     "execution_count": 215,
     "metadata": {},
     "output_type": "execute_result"
    }
   ],
   "source": [
    "apartments_data = apartments_data.drop('Name', axis=1) # Getting rid of 'Names' column\n",
    "apartments_data = apartments_data.iloc[:, 1:] # Getting rid of first column\n",
    "\n",
    "apartments_data.head()"
   ]
  },
  {
   "cell_type": "code",
   "execution_count": 216,
   "metadata": {},
   "outputs": [
    {
     "data": {
      "text/plain": [
       "(2038, 18)"
      ]
     },
     "execution_count": 216,
     "metadata": {},
     "output_type": "execute_result"
    }
   ],
   "source": [
    "apartments_data.shape"
   ]
  },
  {
   "cell_type": "code",
   "execution_count": 217,
   "metadata": {},
   "outputs": [
    {
     "data": {
      "text/plain": [
       "1809"
      ]
     },
     "execution_count": 217,
     "metadata": {},
     "output_type": "execute_result"
    }
   ],
   "source": [
    "apartments_data.duplicated().sum()"
   ]
  },
  {
   "cell_type": "code",
   "execution_count": 218,
   "metadata": {},
   "outputs": [
    {
     "data": {
      "text/plain": [
       "(2038, 18)"
      ]
     },
     "execution_count": 218,
     "metadata": {},
     "output_type": "execute_result"
    }
   ],
   "source": [
    "apartments_data.drop_duplicates()"
   ]
  },
  {
   "cell_type": "code",
   "execution_count": 219,
   "metadata": {},
   "outputs": [
    {
     "name": "stderr",
     "output_type": "stream",
     "text": [
      "c:\\Users\\liorl\\AppData\\Local\\Programs\\Python\\Python310\\lib\\site-packages\\seaborn\\_decorators.py:36: FutureWarning: Pass the following variable as a keyword arg: x. From version 0.12, the only valid positional argument will be `data`, and passing other arguments without an explicit keyword will result in an error or misinterpretation.\n",
      "  warnings.warn(\n"
     ]
    },
    {
     "data": {
      "text/plain": [
       "<AxesSubplot:xlabel='Price'>"
      ]
     },
     "execution_count": 219,
     "metadata": {},
     "output_type": "execute_result"
    },
    {
     "data": {
      "image/png": "[encoded data removed]",
      "text/plain": [
       "<Figure size 432x288 with 1 Axes>"
      ]
     },
     "metadata": {
      "needs_background": "light"
     },
     "output_type": "display_data"
    }
   ],
   "source": [
    "sns.boxplot(apartments_data.Price)"
   ]
  },
  {
   "attachments": {},
   "cell_type": "markdown",
   "metadata": {},
   "source": [
    "#### As we can see, the most common prices for rental apartment is moving between 250-750 NIS"
   ]
  },
  {
   "cell_type": "code",
   "execution_count": 239,
   "metadata": {},
   "outputs": [
    {
     "data": {
      "image/png": "[encoded data removed]",
      "text/plain": [
       "<Figure size 432x288 with 1 Axes>"
      ]
     },
     "metadata": {
      "needs_background": "light"
     },
     "output_type": "display_data"
    }
   ],
   "source": [
    "apartments_data.plot.scatter(x='Price', y='Total_rate')\n",
    "plt.xlabel('Price')\n",
    "plt.ylabel('Rate')\n",
    "plt.title('Connection between Price and Rate')\n",
    "\n",
    "plt.show()"
   ]
  },
  {
   "cell_type": "code",
   "execution_count": 225,
   "metadata": {},
   "outputs": [
    {
     "data": {
      "text/plain": [
       "<BarContainer object of 2038 artists>"
      ]
     },
     "execution_count": 225,
     "metadata": {},
     "output_type": "execute_result"
    },
    {
     "data": {
      "image/png": "[encoded data removed]",
      "text/plain": [
       "<Figure size 864x432 with 1 Axes>"
      ]
     },
     "metadata": {
      "needs_background": "light"
     },
     "output_type": "display_data"
    }
   ],
   "source": [
    "plt.figure(figsize=(12,6))\n",
    "plt.title(\"Price-rate Distribution\")\n",
    "plt.xlabel(\"Price\")\n",
    "plt.ylabel(\"Rate\")\n",
    "# plt.hist(apartments_data.Total_rate, bins=np.arange(10,80,2),color='orange',edgecolor='white')\n",
    "plt.bar(apartments_data.Price, apartments_data.Total_rate)"
   ]
  },
  {
   "cell_type": "code",
   "execution_count": 233,
   "metadata": {},
   "outputs": [
    {
     "data": {
      "image/png": "[encoded data removed]",
      "text/plain": [
       "<Figure size 1440x720 with 1 Axes>"
      ]
     },
     "metadata": {
      "needs_background": "light"
     },
     "output_type": "display_data"
    }
   ],
   "source": [
    "plt.figure(figsize=(20, 10))\n",
    "rate=apartments_data.groupby('Price')['Total_rate'].count().reset_index()\n",
    "sns.barplot(x='Price',y='Total_rate',data=rate)\n",
    "plt.title('Price vs. Rate')\n",
    "plt.xlim(50,100)\n",
    "plt.xlabel('Price')\n",
    "plt.ylabel('Rate')\n",
    "plt.show()"
   ]
  }
 ],
 "metadata": {
  "kernelspec": {
   "display_name": "Python 3",
   "language": "python",
   "name": "python3"
  },
  "language_info": {
   "codemirror_mode": {
    "name": "ipython",
    "version": 3
   },
   "file_extension": ".py",
   "mimetype": "text/x-python",
   "name": "python",
   "nbconvert_exporter": "python",
   "pygments_lexer": "ipython3",
   "version": "3.10.2"
  },
  "orig_nbformat": 4
 },
 "nbformat": 4,
 "nbformat_minor": 2
}
